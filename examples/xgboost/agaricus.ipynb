{
 "cells": [
  {
   "cell_type": "code",
   "execution_count": 1,
   "metadata": {},
   "outputs": [],
   "source": [
    "import xgboost\n",
    "import bentoml"
   ]
  },
  {
   "cell_type": "code",
   "execution_count": 2,
   "metadata": {},
   "outputs": [],
   "source": [
    "dtrain = xgboost.DMatrix(\"data/agaricus.txt.train\")\n",
    "\n",
    "param = {\"max_depth\": 2, \"eta\": 1, \"objective\": \"binary:logistic\"}\n",
    "num_round = 2\n",
    "bst = xgboost.train(param, dtrain, num_round)"
   ]
  },
  {
   "cell_type": "code",
   "execution_count": 3,
   "metadata": {},
   "outputs": [
    {
     "data": {
      "text/plain": [
       "Model(tag=\"agaricus:rn2r6rfztwlv5525\", path=\"/home/son/bentoml/models/agaricus/rn2r6rfztwlv5525/\")"
      ]
     },
     "execution_count": 3,
     "metadata": {},
     "output_type": "execute_result"
    }
   ],
   "source": [
    "bentoml.xgboost.save_model(\"agaricus\", bst)"
   ]
  },
  {
   "cell_type": "code",
   "execution_count": 4,
   "metadata": {},
   "outputs": [
    {
     "name": "stdout",
     "output_type": "stream",
     "text": [
      "\u001b[1m \u001b[0m\u001b[1mTag                      \u001b[0m\u001b[1m \u001b[0m\u001b[1m \u001b[0m\u001b[1mModule         \u001b[0m\u001b[1m \u001b[0m\u001b[1m \u001b[0m\u001b[1mSize    \u001b[0m\u001b[1m \u001b[0m\u001b[1m \u001b[0m\u001b[1mCreation Time      \u001b[0m\u001b[1m \u001b[0m\n",
      " agaricus:rn2r6rfztwlv5525  bentoml.xgboost  2.79 KiB  2023-03-03 15:29:41 \n"
     ]
    }
   ],
   "source": [
    "!bentoml models list"
   ]
  },
  {
   "cell_type": "code",
   "execution_count": 5,
   "metadata": {},
   "outputs": [
    {
     "name": "stderr",
     "output_type": "stream",
     "text": [
      "'Runner.init_local' is for debugging and testing only. Make sure to remove it before deploying to production.\n"
     ]
    },
    {
     "data": {
      "text/plain": [
       "array([0.01241208], dtype=float32)"
      ]
     },
     "execution_count": 5,
     "metadata": {},
     "output_type": "execute_result"
    }
   ],
   "source": [
    "#test loading the model as BentoML Runner instance\n",
    "test_runner = bentoml.xgboost.get(\"agaricus:latest\").to_runner()\n",
    "test_runner.init_local()\n",
    "\n",
    "test_runner.run([[0, 0, 1, 0, 0, 0, 0, 0, 0, 1, 1, 0, 0,\n",
    "                  0, 0, 0, 0, 0, 0, 0, 1, 0, 0, 0, 0, 0,\n",
    "                  0, 0, 0, 1, 0, 0, 0, 1, 0, 1, 0, 0, 0,\n",
    "                  1, 1, 0, 0, 0, 0, 0, 0, 0, 0, 0, 0, 0,\n",
    "                  1, 0, 0, 0, 0, 1, 0, 0, 0, 0, 0, 0, 1,\n",
    "                  0, 0, 0, 1, 0, 0, 0, 0, 0, 0, 0, 1, 0,\n",
    "                  0, 0, 0, 0, 0, 0, 0, 1, 0, 1, 0, 0, 0,\n",
    "                  1, 0, 0, 1, 0, 0, 0, 0, 0, 0, 1, 0, 0,\n",
    "                  1, 0, 0, 0, 0, 0, 0, 0, 0, 0, 0, 0, 1,\n",
    "                  0, 0, 0, 0, 0, 0, 1]]) "
   ]
  },
  {
   "attachments": {},
   "cell_type": "markdown",
   "metadata": {},
   "source": [
    "Create a BentoML Service for serving the model"
   ]
  },
  {
   "cell_type": "code",
   "execution_count": 6,
   "metadata": {},
   "outputs": [
    {
     "name": "stdout",
     "output_type": "stream",
     "text": [
      "Writing agaricus.py\n"
     ]
    }
   ],
   "source": [
    "%%writefile agaricus.py\n",
    "import typing\n",
    "\n",
    "import bentoml\n",
    "import xgboost\n",
    "from bentoml.io import NumpyNdarray, File\n",
    "\n",
    "if typing.TYPE_CHECKING:\n",
    "    import numpy as np\n",
    "\n",
    "agaricus_runner = bentoml.xgboost.get(\"agaricus:latest\").to_runner()\n",
    "\n",
    "svc = bentoml.Service(\"agaricu\", runners=[agaricus_runner])\n",
    "\n",
    "@svc.api(input=NumpyNdarray(), output=NumpyNdarray())\n",
    "def classify(input_data: \"np.ndarray\") -> \"np.ndarray\":\n",
    "    return agaricus_runner.run(input_data)"
   ]
  },
  {
   "cell_type": "code",
   "execution_count": 7,
   "metadata": {},
   "outputs": [
    {
     "name": "stdout",
     "output_type": "stream",
     "text": [
      "2023-03-03T15:51:37+0700 [INFO] [cli] Prometheus metrics for HTTP BentoServer from \"agaricus.py:svc\" can be accessed at http://localhost:3000/metrics.\n",
      "2023-03-03T15:51:38+0700 [INFO] [cli] Starting development HTTP BentoServer from \"agaricus.py:svc\" listening on http://0.0.0.0:3000 (Press CTRL+C to quit)\n",
      "2023-03-03T15:51:59+0700 [INFO] [dev_api_server:agaricu] 127.0.0.1:41616 (scheme=http,method=GET,path=/favicon.ico,type=,length=) (status=404,type=text/plain; charset=utf-8,length=9) 6.407ms (trace=1084b80589427495e6565c53dc365527,span=e04e6d786a422a4b,sampled=0)\n",
      "2023-03-03T15:52:06+0700 [INFO] [dev_api_server:agaricu] 127.0.0.1:51538 (scheme=http,method=GET,path=/,type=,length=) (status=200,type=text/html; charset=utf-8,length=2859) 0.363ms (trace=b7d478173718f0a4f6bff07c176af6ea,span=cc16de2858360d64,sampled=0)\n",
      "2023-03-03T15:52:06+0700 [INFO] [dev_api_server:agaricu] 127.0.0.1:51580 (scheme=http,method=GET,path=/static_content/swagger-initializer.js,type=,length=) (status=200,type=application/javascript,length=383) 13.179ms (trace=41d88c93689d1e3311f0d10635d21214,span=1dee74609485377e,sampled=0)\n",
      "2023-03-03T15:52:06+0700 [INFO] [dev_api_server:agaricu] 127.0.0.1:51544 (scheme=http,method=GET,path=/static_content/index.css,type=,length=) (status=200,type=text/css; charset=utf-8,length=1125) 19.700ms (trace=da23ad8bfbb0a796da9d3361d88266cb,span=5b890f28bfb2f709,sampled=0)\n",
      "2023-03-03T15:52:06+0700 [INFO] [dev_api_server:agaricu] 127.0.0.1:51538 (scheme=http,method=GET,path=/static_content/swagger-ui.css,type=,length=) (status=200,type=text/css; charset=utf-8,length=143980) 25.550ms (trace=39528a6b95ba73cf60f6cdcc6faabcf5,span=eb1c0015cf694089,sampled=0)\n",
      "2023-03-03T15:52:06+0700 [INFO] [dev_api_server:agaricu] 127.0.0.1:51568 (scheme=http,method=GET,path=/static_content/swagger-ui-standalone-preset.js,type=,length=) (status=200,type=application/javascript,length=339540) 28.205ms (trace=298d7c4e2297f7402e46d95a173621a2,span=9ee831de2fc7edcc,sampled=0)\n",
      "2023-03-03T15:52:06+0700 [INFO] [dev_api_server:agaricu] 127.0.0.1:51556 (scheme=http,method=GET,path=/static_content/swagger-ui-bundle.js,type=,length=) (status=200,type=application/javascript,length=1096221) 33.322ms (trace=76e3cf64fc0ad8a46e9bda51ff77a63e,span=76fcde0f47972b45,sampled=0)\n",
      "2023-03-03T15:52:06+0700 [INFO] [dev_api_server:agaricu] 127.0.0.1:51556 (scheme=http,method=GET,path=/docs.json,type=,length=) (status=200,type=application/json,length=4723) 14.441ms (trace=4b40948f908a71c2bf033d75e78e1a3e,span=a4d47398be105b2a,sampled=0)\n",
      "2023-03-03T15:52:06+0700 [INFO] [dev_api_server:agaricu] 127.0.0.1:51556 (scheme=http,method=GET,path=/static_content/favicon-32x32.png,type=,length=) (status=200,type=image/png,length=1912) 1.836ms (trace=bdafde4ffa3d770baa55385b2b1c6409,span=a9002e63cde8c481,sampled=0)\n",
      "^C\n"
     ]
    }
   ],
   "source": [
    "!bentoml serve agaricus.py:svc"
   ]
  },
  {
   "cell_type": "code",
   "execution_count": 8,
   "metadata": {},
   "outputs": [
    {
     "name": "stdout",
     "output_type": "stream",
     "text": [
      "Error: \u001b[31m[bentoml-cli] `build` failed: bentofile \"bentofile.yaml\" not found\u001b[0m\n"
     ]
    }
   ],
   "source": [
    "!bentoml build"
   ]
  },
  {
   "cell_type": "code",
   "execution_count": null,
   "metadata": {},
   "outputs": [],
   "source": []
  }
 ],
 "metadata": {
  "kernelspec": {
   "display_name": "env_bentoml",
   "language": "python",
   "name": "python3"
  },
  "language_info": {
   "codemirror_mode": {
    "name": "ipython",
    "version": 3
   },
   "file_extension": ".py",
   "mimetype": "text/x-python",
   "name": "python",
   "nbconvert_exporter": "python",
   "pygments_lexer": "ipython3",
   "version": "3.8.10"
  },
  "orig_nbformat": 4
 },
 "nbformat": 4,
 "nbformat_minor": 2
}
